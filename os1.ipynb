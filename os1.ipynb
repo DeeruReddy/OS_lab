{
 "cells": [
  {
   "cell_type": "code",
   "execution_count": 1,
   "metadata": {},
   "outputs": [
    {
     "name": "stdout",
     "output_type": "stream",
     "text": [
      "7.0\n",
      " Process No. Process Size      Block no.\n",
      "  1           212             2           417             3           112             4           426           "
     ]
    }
   ],
   "source": [
    "a = float(input(\"Enter a number\"))\n",
    "b = float(input(\"Enter a number\"))\n",
    "z = a + b\n",
    "def add_ition(a,b):\n",
    "    return z\n",
    "result = add_ition(a,b)\n",
    "print(result)\n",
    "\n",
    "\n",
    "\n",
    "\n",
    "\n",
    "\n",
    "\n",
    "# -*- coding: utf-8 -*-\n",
    "# Python3 implementation of First-Fit algorithm\n",
    " # Function to allocate memory to\n",
    "# blocks as per First fit algorithm\n",
    "def firstFit(blockSize, m, processSize, n):\n",
    "     \n",
    "    # Stores block id of the\n",
    "    # block allocated to a process\n",
    "    allocation = [-1] * n\n",
    " \n",
    "    # Initially no block is assigned to any process\n",
    " \n",
    "    # pick each process and find suitable blocks\n",
    "    # according to its size ad assign to it\n",
    "    for i in range(n):\n",
    "        for j in range(m):\n",
    "            if blockSize[j] >= processSize[i]:\n",
    "                 \n",
    "                # allocate block j to p[i] process\n",
    "                allocation[i] = j\n",
    " \n",
    "                # Reduce available memory in this block.\n",
    "                blockSize[j] -= processSize[i]\n",
    " \n",
    "                break\n",
    " \n",
    "    print(\" Process No. Process Size      Block no.\")\n",
    "    for i in range(n):\n",
    "        print(\" \", i + 1, \"         \", processSize[i],\n",
    "                          \"         \", end = \" \")\n",
    "        #if allocation[i] != -1:\n",
    "           # print(allocation[i] + 1)\n",
    "        #else:\n",
    "            #print(\"Not Allocated\")\n",
    " \n",
    "# Driver code\n",
    "if __name__ == '__main__':\n",
    "    blockSize = [100, 500, 200, 300, 600]\n",
    "    processSize = [212, 417, 112, 426]\n",
    "    m = len(blockSize)\n",
    "    n = len(processSize)\n",
    " \n",
    "    firstFit(blockSize, m, processSize, n)"
   ]
  }
 ],
 "metadata": {
  "kernelspec": {
   "display_name": "Python 3",
   "language": "python",
   "name": "python3"
  },
  "language_info": {
   "codemirror_mode": {
    "name": "ipython",
    "version": 3
   },
   "file_extension": ".py",
   "mimetype": "text/x-python",
   "name": "python",
   "nbconvert_exporter": "python",
   "pygments_lexer": "ipython3",
   "version": "3.11.3"
  },
  "orig_nbformat": 4
 },
 "nbformat": 4,
 "nbformat_minor": 2
}
