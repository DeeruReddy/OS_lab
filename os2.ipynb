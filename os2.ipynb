{
 "cells": [
  {
   "cell_type": "code",
   "execution_count": 1,
   "metadata": {},
   "outputs": [
    {
     "name": "stdout",
     "output_type": "stream",
     "text": [
      "Sorted list: [3, 12, 35, 67]\n"
     ]
    }
   ],
   "source": [
    "def sort(s):\n",
    "    n=s\n",
    "    d=list()\n",
    "    for i in range (n):\n",
    "        no=int(input(\"Enter number: \"))\n",
    "        d.append(no)\n",
    "    for i in range(n):\n",
    "        for j in range(n-i-1):\n",
    "            if d[j] > d[j + 1]:\n",
    "                tmp=d[j]\n",
    "                d[j]=d[j+1]\n",
    "                d[j+1]=tmp\n",
    "    print(\"Sorted list:\", d)\n",
    "size=int(input(\"Enter array size: \"))\n",
    "\n",
    "sort(size)"
   ]
  }
 ],
 "metadata": {
  "kernelspec": {
   "display_name": "Python 3",
   "language": "python",
   "name": "python3"
  },
  "language_info": {
   "codemirror_mode": {
    "name": "ipython",
    "version": 3
   },
   "file_extension": ".py",
   "mimetype": "text/x-python",
   "name": "python",
   "nbconvert_exporter": "python",
   "pygments_lexer": "ipython3",
   "version": "3.11.3"
  },
  "orig_nbformat": 4
 },
 "nbformat": 4,
 "nbformat_minor": 2
}
